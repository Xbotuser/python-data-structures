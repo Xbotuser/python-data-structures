{
 "cells": [
  {
   "cell_type": "code",
   "execution_count": 1,
   "id": "d20ce35c-8545-4e10-83fd-d054c1faa216",
   "metadata": {},
   "outputs": [],
   "source": [
    "#1 Write a code to reverse a string"
   ]
  },
  {
   "cell_type": "code",
   "execution_count": 3,
   "id": "1fb2cbdd-d6fe-42ea-8d35-88eac574073b",
   "metadata": {},
   "outputs": [
    {
     "name": "stdout",
     "output_type": "stream",
     "text": [
      "Original string: Hello, world!\n",
      "Reversed string: !dlrow ,olleH\n"
     ]
    }
   ],
   "source": [
    "def reverse(s):\n",
    "    return ''.join(reversed(s))\n",
    "\n",
    "text = \"Hello, world!\"\n",
    "r_text = reverse(text)\n",
    "print(\"Original string:\", text)\n",
    "print(\"Reversed string:\", r_text)\n"
   ]
  },
  {
   "cell_type": "code",
   "execution_count": 20,
   "id": "c2fd1102-b59f-4179-9cc2-2b6f57bc91eb",
   "metadata": {},
   "outputs": [
    {
     "name": "stdin",
     "output_type": "stream",
     "text": [
      "Enter a string:  asdasfd\n"
     ]
    },
    {
     "name": "stdout",
     "output_type": "stream",
     "text": [
      "Number of vowels: 2\n"
     ]
    }
   ],
   "source": [
    "#2 Write a code to count number of vowels in a string\n",
    "\n",
    "def count_v(s):\n",
    "    vowels = 'aeiouAEIOU'\n",
    "    return sum(1 for char in s if char in vowels)\n",
    "text = input(\"Enter a string: \")\n",
    "v_count = count_v(text)\n",
    "print(\"Number of vowels:\", v_count)"
   ]
  },
  {
   "cell_type": "code",
   "execution_count": 10,
   "id": "d2f934df-65bd-4072-8a17-349ca0cf1ca5",
   "metadata": {},
   "outputs": [
    {
     "name": "stdin",
     "output_type": "stream",
     "text": [
      "Enter a string:  hello\n"
     ]
    },
    {
     "name": "stdout",
     "output_type": "stream",
     "text": [
      "The string is not a palindrome.\n"
     ]
    }
   ],
   "source": [
    "#3 write a code to check if a given string is Palindrome or not\n",
    "\n",
    "import re\n",
    "def is_palindrome(s):\n",
    "    return (cleaned_string := re.sub(r'[^A-Za-z0-9]', '', s).lower()) == cleaned_string[::-1]\n",
    "\n",
    "text = input(\"Enter a string: \")\n",
    "print(\"The string is a palindrome.\" if is_palindrome(text) else \"The string is not a palindrome.\")\n"
   ]
  },
  {
   "cell_type": "code",
   "execution_count": 2,
   "id": "3293222b-e0ed-440e-a916-b09a9a512ab3",
   "metadata": {},
   "outputs": [
    {
     "name": "stdin",
     "output_type": "stream",
     "text": [
      "Enter the first string:  aa\n",
      "Enter the second string:  aa\n"
     ]
    },
    {
     "name": "stdout",
     "output_type": "stream",
     "text": [
      "\"aa\" and \"aa\" are not anagrams.\n"
     ]
    }
   ],
   "source": [
    "#4 write a code to check if two given string are anagrams of each other\n",
    "\n",
    "def are_anagrams(str1, str2):\n",
    "    str1 = str1.replace(\" \", \"\").lower()\n",
    "    str2 = str2.replace(\" \", \"\").lower()\n",
    "    return sorted(str1) == sorted(str2)\n",
    "t1 = input(\"Enter the first string: \")\n",
    "t2 = input(\"Enter the second string: \")\n",
    "if are_anagrams(t1, string2):\n",
    "    print(f'\"{t1}\" and \"{t2}\" are anagrams.')\n",
    "else:\n",
    "    print(f'\"{t1}\" and \"{t2}\" are not anagrams.')\n",
    "\n"
   ]
  },
  {
   "cell_type": "code",
   "execution_count": 21,
   "id": "8ddf06d5-730f-47bb-b18d-26533937e7e7",
   "metadata": {},
   "outputs": [
    {
     "name": "stdin",
     "output_type": "stream",
     "text": [
      "Enter the main string:  fgfds\n",
      "Enter the substring to find:  s\n"
     ]
    },
    {
     "name": "stdout",
     "output_type": "stream",
     "text": [
      "The substring 's' was found at positions: [4]\n"
     ]
    }
   ],
   "source": [
    "#5 Write code to find all occurrences of a given substring within another string\n",
    "\n",
    "def f_all(main_string, substring):\n",
    "    occurrences = []\n",
    "    start = 0\n",
    "    while True:\n",
    "        start = main_string.find(substring, start)\n",
    "        if start == -1:\n",
    "            break\n",
    "        occurrences.append(start)\n",
    "        start += len(substring) \n",
    "    return occurrences\n",
    "main_string = input(\"Enter the main string: \")\n",
    "substring = input(\"Enter the substring to find: \")\n",
    "occurrences = f_all(main_string, substring)\n",
    "if occurrences:\n",
    "    print(f\"The substring '{substring}' was found at positions: {occurrences}\")\n",
    "else:\n",
    "    print(f\"The substring '{substring}' was not found in the main string.\")\n"
   ]
  },
  {
   "cell_type": "code",
   "execution_count": 13,
   "id": "565d956c-5279-4a09-b6ea-6e3dd07a14a3",
   "metadata": {},
   "outputs": [
    {
     "name": "stdin",
     "output_type": "stream",
     "text": [
      "Enter a string to compress:  aaaaaa\n"
     ]
    },
    {
     "name": "stdout",
     "output_type": "stream",
     "text": [
      "Original String: aaaaaa\n",
      "Compressed String: a6\n"
     ]
    }
   ],
   "source": [
    "#6 write a code to perform basic string compression using the counts of repeated characters\n",
    "\n",
    "def compress(s):\n",
    "    if not s:\n",
    "        return \"\"\n",
    "    compressed = []\n",
    "    count = 1\n",
    "    for i in range(1, len(s)):\n",
    "        if s[i] == s[i - 1]:\n",
    "            count += 1\n",
    "        else:\n",
    "            compressed.append(s[i - 1] + str(count))\n",
    "            count = 1\n",
    "    compressed.append(s[-1] + str(count))\n",
    "    compressed_string = ''.join(compressed)\n",
    "    return compressed_string if len(compressed_string) < len(s) else s\n",
    "input_string = input(\"Enter a string to compress: \")\n",
    "compressed_string = compress(input_string)\n",
    "print(f\"Original String: {input_string}\")\n",
    "print(f\"Compressed String: {compressed_string}\")\n"
   ]
  },
  {
   "cell_type": "code",
   "execution_count": 15,
   "id": "52135cdc-6927-492a-b0d9-de5dcd418a5b",
   "metadata": {},
   "outputs": [
    {
     "name": "stdin",
     "output_type": "stream",
     "text": [
      "Enter a string to check for uniqueness:  hello\n"
     ]
    },
    {
     "name": "stdout",
     "output_type": "stream",
     "text": [
      "The string does not have all unique characters.\n"
     ]
    }
   ],
   "source": [
    "#7 write a code to determine if a string has all unique characters\n",
    "\n",
    "def unique(s):\n",
    "    s = s.replace(\" \", \"\")\n",
    "    unique_characters = set(s)\n",
    "    return len(unique_characters) == len(s)\n",
    "\n",
    "input_string = input(\"Enter a string to check for uniqueness: \")\n",
    "unique = unique(input_string)\n",
    "if unique:\n",
    "    print(\"The string has all unique characters.\")\n",
    "else:\n",
    "    print(\"The string does not have all unique characters.\")\n"
   ]
  },
  {
   "cell_type": "code",
   "execution_count": 7,
   "id": "adc118e5-a302-40ff-9151-42da304774b3",
   "metadata": {},
   "outputs": [
    {
     "name": "stdin",
     "output_type": "stream",
     "text": [
      "enter the string qwer\n"
     ]
    },
    {
     "name": "stdout",
     "output_type": "stream",
     "text": [
      "Lower case : qwer\n",
      "upper case:  QWER\n"
     ]
    }
   ],
   "source": [
    "#8 Write a code to convert a given string to uppercase or lowercase\n",
    "\n",
    "text = input(\"enter the string\")\n",
    "print(\"Lower case :\",text.lower())\n",
    "print(\"upper case: \",text.upper())"
   ]
  },
  {
   "cell_type": "code",
   "execution_count": 18,
   "id": "e59242ca-9503-4f04-b102-ea473c010634",
   "metadata": {},
   "outputs": [
    {
     "name": "stdin",
     "output_type": "stream",
     "text": [
      "Enter a string to count the number of words:  hello himanshu\n"
     ]
    },
    {
     "name": "stdout",
     "output_type": "stream",
     "text": [
      "Number of words in the string: 2\n"
     ]
    }
   ],
   "source": [
    "#9 write a code to count a number of words in a string\n",
    "\n",
    "def count_words(s):\n",
    "    words = s.strip().split()\n",
    "    return len(words)\n",
    "input_string = input(\"Enter a string to count the number of words: \")\n",
    "word_count = count_words(input_string)\n",
    "print(f\"Number of words in the string: {word_count}\")\n"
   ]
  },
  {
   "cell_type": "code",
   "execution_count": 22,
   "id": "69a63aba-5996-499f-92fa-25ec9439a1f9",
   "metadata": {},
   "outputs": [
    {
     "name": "stdin",
     "output_type": "stream",
     "text": [
      "Enter the first string:  dfgdfg\n",
      "Enter the second string:  dfgd\n"
     ]
    },
    {
     "name": "stdout",
     "output_type": "stream",
     "text": [
      "Concatenated result :  dfgdfgdfgd\n"
     ]
    }
   ],
   "source": [
    "#10 Write a code to concatenate two string without using + operator\n",
    "\n",
    "def concatenate(str1, str2):\n",
    "    return \"{}{}\".format(str1, str2)\n",
    "\n",
    "# Get input from the user\n",
    "t1 = input(\"Enter the first string: \")\n",
    "t2 = input(\"Enter the second string: \")\n",
    "\n",
    "# Concatenate the strings\n",
    "result = concatenate(t1, t2)\n",
    "\n",
    "# Output the result\n",
    "print(\"Concatenated result : \", result)\n"
   ]
  },
  {
   "cell_type": "code",
   "execution_count": 6,
   "id": "c0eadfbf-c07a-41fe-9043-5b05aec6b6c8",
   "metadata": {},
   "outputs": [
    {
     "name": "stdin",
     "output_type": "stream",
     "text": [
      "Enter a list of integers separated by Comma :  1,2,2,2,3,4\n",
      "Enter the integer to remove from the list:  3\n"
     ]
    },
    {
     "name": "stdout",
     "output_type": "stream",
     "text": [
      "List after removing occurrences :  [1, 2, 2, 2, 4]\n"
     ]
    }
   ],
   "source": [
    "#11 Write a code to remove all occurrences of  specific element from a list\n",
    "\n",
    "def remove(input_list, text):\n",
    "    return [element for element in input_list if element != text]\n",
    "\n",
    "user_input = input(\"Enter a list of integers separated by Comma : \")\n",
    "lst =  list(map(int, user_input.split(',')))\n",
    "text = int(input(\"Enter the integer to remove from the list: \"))\n",
    "\n",
    "result = remove(lst, text)\n",
    "print(\"List after removing occurrences : \", result)\n",
    "\n"
   ]
  },
  {
   "cell_type": "code",
   "execution_count": 23,
   "id": "30be3d78-699b-45b8-ac91-e8a3ae41a5e6",
   "metadata": {},
   "outputs": [
    {
     "name": "stdout",
     "output_type": "stream",
     "text": [
      "The second largest number :  5\n"
     ]
    }
   ],
   "source": [
    "#12 Implement a code to find the second lasrgest number in the given list\n",
    "\n",
    "def large(numbers):\n",
    "    unique = list(set(numbers))\n",
    "    if len(unique) < 2:\n",
    "        return None\n",
    "    unique.sort(reverse=True)\n",
    "    return unique[1]\n",
    "lst = [4, 1, 7, 7, 5, 3, 5]\n",
    "result = large(lst)\n",
    "print(\"The second largest number : \", result)\n"
   ]
  },
  {
   "cell_type": "code",
   "execution_count": 24,
   "id": "eba85771-4696-4363-b1af-dc042e8736fa",
   "metadata": {},
   "outputs": [
    {
     "name": "stdout",
     "output_type": "stream",
     "text": [
      "{1: 1, 2: 2, 3: 3, 4: 1}\n"
     ]
    }
   ],
   "source": [
    "#13 create a code to count the occurrences of the each element in a list and return a disctonary with elements as keys and their count as value\n",
    "\n",
    "from collections import Counter\n",
    "\n",
    "def count(lst):\n",
    "    return dict(Counter(lst))\n",
    "lst = [1, 2, 2, 3, 3, 3, 4]\n",
    "result = count(lst)\n",
    "print(result)\n"
   ]
  },
  {
   "cell_type": "code",
   "execution_count": 25,
   "id": "c1f9e4e6-4ced-4c23-a8f0-8c4c2418c670",
   "metadata": {},
   "outputs": [
    {
     "name": "stdout",
     "output_type": "stream",
     "text": [
      "[5, 4, 3, 2, 1]\n"
     ]
    }
   ],
   "source": [
    "#14 Write a code to reverse a list in-place without using any built-in reverse functions\n",
    "\n",
    "def rev(lst):\n",
    "    left, right = 0, len(lst) - 1\n",
    "    while left < right:\n",
    "        lst[left], lst[right] = lst[right], lst[left]\n",
    "        left += 1\n",
    "        right -= 1\n",
    "\n",
    "lst = [1, 2, 3, 4, 5]\n",
    "rev(lst)\n",
    "print(lst)"
   ]
  },
  {
   "cell_type": "code",
   "execution_count": 26,
   "id": "8fe017f4-00ef-4d31-83d0-e179f495944e",
   "metadata": {},
   "outputs": [
    {
     "name": "stdout",
     "output_type": "stream",
     "text": [
      "[0, 1, 2, 3, 4, 5]\n"
     ]
    }
   ],
   "source": [
    "#15 write a code to remove duplicates from a list while perserving the original order of element\n",
    "\n",
    "def r_duplicate(lst):\n",
    "    seen = set()\n",
    "    return [x for x in lst if not (x in seen or seen.add(x))]\n",
    "\n",
    "# Example usage\n",
    "lst = [0,0,1, 2, 3, 2, 4, 1, 5]\n",
    "result = r_duplicate(lst)\n",
    "print(result)\n"
   ]
  },
  {
   "cell_type": "code",
   "execution_count": 27,
   "id": "1c62aa00-3ca5-47e0-9f08-a19c94d05711",
   "metadata": {},
   "outputs": [
    {
     "name": "stdout",
     "output_type": "stream",
     "text": [
      "True\n",
      "True\n",
      "False\n"
     ]
    }
   ],
   "source": [
    "#16 Create a code to check if given list is sorted or not (asc or desc)\n",
    "\n",
    "def is_sorted(lst):\n",
    "    return lst == sorted(lst) or lst == sorted(lst, reverse=True)\n",
    "\n",
    "lst1 = [1, 2, 3, 4, 5]\n",
    "result1 = is_sorted(lst1)\n",
    "print(result1)  \n",
    "\n",
    "lst2 = [5, 4, 3, 2, 1]\n",
    "result2 = is_sorted(lst2)\n",
    "print(result2)  \n",
    "\n",
    "lst3 = [1, 3, 2, 4]\n",
    "result3 = is_sorted(lst3)\n",
    "print(result3) \n"
   ]
  },
  {
   "cell_type": "code",
   "execution_count": 28,
   "id": "0864e009-610c-49ab-a4aa-955cc1f6e2d5",
   "metadata": {},
   "outputs": [
    {
     "name": "stdout",
     "output_type": "stream",
     "text": [
      "[1, 2, 3, 4, 5, 6]\n"
     ]
    }
   ],
   "source": [
    "#17 Write a code to merge two shorted list into a single sorted list\n",
    "\n",
    "def merge(list1, list2):\n",
    "    return sorted(list1 + list2)\n",
    "list1 = [1, 3, 5]\n",
    "list2 = [2, 4, 6]\n",
    "result = merge(list1, list2)\n",
    "print(result)\n"
   ]
  },
  {
   "cell_type": "code",
   "execution_count": 29,
   "id": "4b7974fe-ca64-40cf-a7a0-ff985dffce1a",
   "metadata": {},
   "outputs": [
    {
     "name": "stdout",
     "output_type": "stream",
     "text": [
      "[4, 5]\n"
     ]
    }
   ],
   "source": [
    "#18 Code to find intersection of two given list\n",
    "\n",
    "def intr(list1, list2):\n",
    "    return list(set(list1) & set(list2))\n",
    "\n",
    "list1 = [1, 2, 3, 4, 5]\n",
    "list2 = [4, 5, 6, 7, 8]\n",
    "result = intr(list1, list2)\n",
    "print(result)\n"
   ]
  },
  {
   "cell_type": "code",
   "execution_count": 30,
   "id": "4d7a2b77-29de-4ad0-9924-4272e758e2b2",
   "metadata": {},
   "outputs": [
    {
     "name": "stdout",
     "output_type": "stream",
     "text": [
      "[1, 2, 3, 4, 5, 6, 7, 9, 89]\n"
     ]
    }
   ],
   "source": [
    "#19 Code to find union of two lists without duplicates\n",
    "\n",
    "def union(list1, list2):\n",
    "    return list(set(list1) | set(list2))\n",
    "\n",
    "list1 = [1, 2, 3, 4,5]\n",
    "list2 = [3, 4, 5, 6,7,89,9,9]\n",
    "result = union(list1, list2)\n",
    "print(result)  \n"
   ]
  },
  {
   "cell_type": "code",
   "execution_count": 31,
   "id": "e1f84840-4d5b-401e-9fae-81d4e8ed01e8",
   "metadata": {},
   "outputs": [
    {
     "name": "stdout",
     "output_type": "stream",
     "text": [
      "[5, 4, 3, 5, 2, 1]\n"
     ]
    }
   ],
   "source": [
    "#20 Write a code to shuffle a given list randomly without using any built-in shuffle function\n",
    "\n",
    "import random\n",
    "lst = [1, 2, 3, 4, 5, 5]\n",
    "for i in range(len(lst)-1,0,-1):\n",
    "    j = random.randint(0,i)\n",
    "    lst[i], lst[j] = lst[j] , lst[i]\n",
    "print(lst)"
   ]
  },
  {
   "cell_type": "code",
   "execution_count": 32,
   "id": "aeeaf2f7-2526-4819-bea8-54a97caa625f",
   "metadata": {},
   "outputs": [
    {
     "name": "stdout",
     "output_type": "stream",
     "text": [
      "(3, 4)\n"
     ]
    }
   ],
   "source": [
    "#21 Write a code that takes two tupples as input return a new tuple containing elements that are comman to both input tuples \n",
    "\n",
    "def c_elmnt(t1, t2):\n",
    "    return tuple(set(t1) & set(t2))\n",
    "t1 = (1, 2, 3, 4)\n",
    "t2 = (3, 4, 5, 6)\n",
    "result = c_elmnt(t1, t2)\n",
    "print(result)\n"
   ]
  },
  {
   "cell_type": "code",
   "execution_count": 37,
   "id": "949c86d7-eb04-4884-b91a-10e0d2f3924b",
   "metadata": {},
   "outputs": [
    {
     "name": "stdin",
     "output_type": "stream",
     "text": [
      "Enter first set separated by commas :  1,1\n",
      "Enter second set separated by commas :  2,1\n"
     ]
    },
    {
     "name": "stdout",
     "output_type": "stream",
     "text": [
      "Intersection :  {1}\n"
     ]
    }
   ],
   "source": [
    "#22 write a code that prompt the user to enter two sets of integers seprated by commas then print the intersections of these two sets\n",
    "\n",
    "def main():\n",
    "    set1 = set(map(int, input(\"Enter first set separated by commas : \").split(',')))\n",
    "    set2 = set(map(int, input(\"Enter second set separated by commas : \").split(',')))\n",
    "    print(\"Intersection : \", set1 & set2)\n",
    "\n",
    "main()\n"
   ]
  },
  {
   "cell_type": "code",
   "execution_count": 28,
   "id": "47affc7b-0d5a-48c3-b557-84320c3de2ba",
   "metadata": {},
   "outputs": [
    {
     "name": "stdin",
     "output_type": "stream",
     "text": [
      "Enter the first tuple of int separated by comma :  1,2\n",
      "Enter the second tuple of int separated by comma :  3,34,3,3,4,4,4,4,5,5,5,6,6,6\n"
     ]
    },
    {
     "name": "stdout",
     "output_type": "stream",
     "text": [
      "Concatenated tuple: (1, 2, 3, 34, 3, 3, 4, 4, 4, 4, 5, 5, 5, 6, 6, 6)\n"
     ]
    }
   ],
   "source": [
    "#23 Write a code to concatenate two tuples. The function take two tuple input and return a new tuple containing elements from both the input tuples.\n",
    "\n",
    "def f1(tup1, tup2):\n",
    "    return tup1 + tup2\n",
    "\n",
    "i1 = input(\"Enter the first tuple of int separated by comma : \")\n",
    "t1 = tuple(map(int, i1.split(',')))\n",
    "i2 = input(\"Enter the second tuple of int separated by comma : \")\n",
    "t2 = tuple(map(int, i2.split(',')))\n",
    "result = f1(t1, t2)\n",
    "print(\"Concatenated tuple:\", result)\n"
   ]
  },
  {
   "cell_type": "code",
   "execution_count": 29,
   "id": "70e78579-fc24-44b8-abd3-c944dc7bd8d7",
   "metadata": {},
   "outputs": [
    {
     "name": "stdin",
     "output_type": "stream",
     "text": [
      "first strings separated by commas:  sdf,sdf,et,ret,sr,sadf,s,hgsrdg,sef,sdf,sdf,sd\n",
      "second strings separated by commas:  sdf,sdf,rt,ert,erg,saer,wer,e\n"
     ]
    },
    {
     "name": "stdout",
     "output_type": "stream",
     "text": [
      "{'sef', 'ret', 's', 'sr', 'hgsrdg', 'sadf', 'et', 'sd'}\n"
     ]
    }
   ],
   "source": [
    "#24 Develop a code that prompts the user to input two sets of strings. then print the elements that are present in first set and not in second set. \n",
    "\n",
    "set1 = set(input(\"first strings separated by commas: \").split(','))\n",
    "set2 = set(input(\"second strings separated by commas: \").split(','))\n",
    "difference = set1 - set2\n",
    "print(difference)\n"
   ]
  },
  {
   "cell_type": "code",
   "execution_count": 5,
   "id": "7e8f60f3-87bf-4d4f-b42c-1df6419d33e0",
   "metadata": {},
   "outputs": [
    {
     "name": "stdin",
     "output_type": "stream",
     "text": [
      "Enter tuple elements separated by comma :  1,2,2,3,111,4,54,55,5,6,6,7,87,8,8,8,8,9,9,4\n",
      "Enter the start index:  1\n",
      "Enter the end index:  6\n"
     ]
    },
    {
     "name": "stdout",
     "output_type": "stream",
     "text": [
      "Sliced tuple: (2, 2, 3, 111, 4)\n"
     ]
    }
   ],
   "source": [
    "#25 create a code that take tuple and two int as input. the function should return a new tuple containing elements from the original tuple within the specified range of indies.\n",
    "\n",
    "def slice_tuple(t, start, end):\n",
    "    return t[start:end]\n",
    "\n",
    "user_input = input(\"Enter tuple elements separated by comma : \")\n",
    "t = tuple(map(int, user_input.split(',')))\n",
    "start = int(input(\"Enter the start index: \"))\n",
    "end = int(input(\"Enter the end index: \"))\n",
    "result = slice_tuple(t, start, end)\n",
    "print(\"Sliced tuple:\", result)\n",
    "\n"
   ]
  },
  {
   "cell_type": "code",
   "execution_count": 6,
   "id": "f8bda951-1b4b-44ee-9c72-f1f4c6740308",
   "metadata": {},
   "outputs": [
    {
     "name": "stdin",
     "output_type": "stream",
     "text": [
      " eeekeek\n",
      " qwqwqwwwrrwwe\n"
     ]
    },
    {
     "name": "stdout",
     "output_type": "stream",
     "text": [
      "{'e', 'r', 'w', 'k', 'q'}\n"
     ]
    }
   ],
   "source": [
    "#26 Write a code that prompts the user to input two sets of char. Then print the union of these two sets\n",
    "\n",
    "print(set(input()) | set(input()))\n"
   ]
  },
  {
   "cell_type": "code",
   "execution_count": 8,
   "id": "b6ce77cc-70a3-4555-9419-ae0ce4d8db1d",
   "metadata": {},
   "outputs": [
    {
     "name": "stdin",
     "output_type": "stream",
     "text": [
      "Enter integers separated by spaces :  1  2 2 32 324 34 5 345 34 52 3 23 4 234  24 23  2 2 5   2  1 1  35 2345 23\n"
     ]
    },
    {
     "name": "stdout",
     "output_type": "stream",
     "text": [
      "Max: 2345, Min: 1\n"
     ]
    }
   ],
   "source": [
    "#27 Develop a code that take a tuple of int as input. The function should return the max and min values from the tuple using tuple unpacking.\n",
    "\n",
    "def find_max_min(nums):\n",
    "    max_val, min_val = max(nums), min(nums)\n",
    "    return max_val, min_val\n",
    "lst = input(\"Enter integers separated by spaces : \")\n",
    "n = tuple(map(int, lst.split()))\n",
    "max_val, min_val = find_max_min(n)\n",
    "print(f\"Max: {max_val}, Min: {min_val}\")\n"
   ]
  },
  {
   "cell_type": "code",
   "execution_count": 38,
   "id": "bc137fa0-0230-46a1-bd2a-91ffd5aa84e2",
   "metadata": {},
   "outputs": [
    {
     "name": "stdout",
     "output_type": "stream",
     "text": [
      "Union: {1, 2, 3, 4, 5, 6, 7, 8}\n",
      "Intersection: {4, 5}\n",
      "Difference (set1 - set2): {1, 2, 3}\n",
      "Difference (set2 - set1): {8, 6, 7}\n"
     ]
    }
   ],
   "source": [
    "#28 create a code that defines two sets of int. then print the union, intersection, and difference of these two sets\n",
    "\n",
    "s1 = {1, 2, 3, 4, 5}\n",
    "s2 = {4, 5, 6, 7, 8}\n",
    "print(\"Union:\", s1 | s2)\n",
    "print(\"Intersection:\", s1 & s2)\n",
    "print(\"Difference (set1 - set2):\", s1 - s2)\n",
    "print(\"Difference (set2 - set1):\", s2 - s1)"
   ]
  },
  {
   "cell_type": "code",
   "execution_count": 4,
   "id": "c791dd69-edd5-4adc-ba3a-6bfa39d87e7d",
   "metadata": {},
   "outputs": [
    {
     "name": "stdin",
     "output_type": "stream",
     "text": [
      "Enter tuple elements separated by commas :  1,1,1,1,1,4,5,6,6,6,2,3,5,88,4,6,6,6\n",
      "Enter the element to count :  5\n"
     ]
    },
    {
     "name": "stdout",
     "output_type": "stream",
     "text": [
      "Count of occurrences :  2\n"
     ]
    }
   ],
   "source": [
    "#29 write a code that take tuple and an element as input. The function should return the count of occurrences of the given element in the tuple\n",
    "\n",
    "def c(t, e):\n",
    "    return t.count(e)\n",
    "\n",
    "inp = input(\"Enter tuple elements separated by commas : \")\n",
    "t = tuple(map(int, inp.split(',')))\n",
    "e = int(input(\"Enter the element to count : \"))\n",
    "print(\"Count of occurrences : \", c(t, e))\n"
   ]
  },
  {
   "cell_type": "code",
   "execution_count": 5,
   "id": "dba6af0e-44af-4f49-ac18-5ffede245403",
   "metadata": {},
   "outputs": [
    {
     "name": "stdin",
     "output_type": "stream",
     "text": [
      "Enter the first set of strings separated by commas (e.g., apple,banana,mango) :  apple, mango\n",
      "Enter the second set of strings separated by commas (e.g., banana,grape,kiwi) :  mango, banana\n"
     ]
    },
    {
     "name": "stdout",
     "output_type": "stream",
     "text": [
      "Symmetric difference :  {'mango', ' banana', ' mango', 'apple'}\n"
     ]
    }
   ],
   "source": [
    "#30 Develop a code that prompts the user to input two sets of strings. Then, print the symmetric difference of these two sets\n",
    "\n",
    "def gs(p):\n",
    "    return set(input(p).split(','))\n",
    "\n",
    "s1 = gs(\"Enter the first set of strings separated by commas (e.g., apple,banana,mango) : \")\n",
    "s2 = gs(\"Enter the second set of strings separated by commas (e.g., banana,grape,kiwi) : \")\n",
    "print(\"Symmetric difference : \", s1 ^ s2)\n"
   ]
  },
  {
   "cell_type": "code",
   "execution_count": 14,
   "id": "d5e3e615-f543-44cc-b2a1-632efc74989b",
   "metadata": {},
   "outputs": [
    {
     "name": "stdin",
     "output_type": "stream",
     "text": [
      "Enter words separated by spaces:  s\n"
     ]
    },
    {
     "name": "stdout",
     "output_type": "stream",
     "text": [
      "Word frequencies: {'s': 1}\n"
     ]
    }
   ],
   "source": [
    "#31 Write a code that takes a list of word as input and returns a dictionary where the key are unique words and the value are the frequencies of those words in the input list\n",
    "\n",
    "def word_f(w):\n",
    "    freq_dict = {}\n",
    "    for word in w:\n",
    "        freq_dict[word] = freq_dict.get(word, 0) + 1\n",
    "    return freq_dict\n",
    "    \n",
    "inp = input(\"Enter words separated by spaces: \")\n",
    "w = inp.split()\n",
    "f = word_f(w)\n",
    "print(\"Word frequencies:\", f)\n"
   ]
  },
  {
   "cell_type": "code",
   "execution_count": 15,
   "id": "019cf039-ac97-4567-a363-b6d797dc07a9",
   "metadata": {},
   "outputs": [
    {
     "name": "stdin",
     "output_type": "stream",
     "text": [
      "Enter 1st dict (e.g., {'a': 1, 'b': 2}):  {'a': 1, 'b': 2}\n",
      "Enter 2nd dict (e.g., {'b': 3, 'c': 4}):  {'ac': 1, 'ba': 2}\n"
     ]
    },
    {
     "name": "stdout",
     "output_type": "stream",
     "text": [
      "Merged dict :  {'s': 1, 'ac': 1, 'ba': 2}\n"
     ]
    }
   ],
   "source": [
    "#32 Write a code that takes two dictionaries as input and merge them into a single dict. If there are comman keys, the value should be added together.\n",
    "\n",
    "import ast\n",
    "\n",
    "def merge_dicts(d1, d2):\n",
    "    merged_dict = d1.copy()\n",
    "    for key, value in d2.items():\n",
    "        if key in merged_dict:\n",
    "            f[key] += value\n",
    "        else:\n",
    "            f[key] = value\n",
    "    return f\n",
    "\n",
    "d1 = ast.literal_eval(input(\"Enter 1st dict (e.g., {'a': 1, 'b': 2}): \"))\n",
    "d2 = ast.literal_eval(input(\"Enter 2nd dict (e.g., {'b': 3, 'c': 4}): \"))\n",
    "merged = merge_dicts(d1, d2)\n",
    "print(\"Merged dict : \", merged)\n"
   ]
  },
  {
   "cell_type": "code",
   "execution_count": 16,
   "id": "c52093be-f1ae-46cb-8b19-afcbbc70801b",
   "metadata": {},
   "outputs": [
    {
     "name": "stdout",
     "output_type": "stream",
     "text": [
      "THE UPDATED DICT IS : {'c': 123, 'd': 321}\n"
     ]
    }
   ],
   "source": [
    "#33 Write a code to access a value in a nested dictionary the function should take the dictionary and a list of keys as\n",
    "       #input entertain the corresponding value if any of the keys do not exist in the dictionary in the function should return none\n",
    "\n",
    "def get_dict(d,keys):\n",
    "    nd = d.copy()\n",
    "    for key in keys:\n",
    "        if key in nd:\n",
    "            nd = nd[key]\n",
    "        else:\n",
    "            return None\n",
    "    return nd\n",
    "nested_dict = {'a':{'b':{'c':123,'d':321}},'e':{'f':64}}\n",
    "list_key = ['a','b']\n",
    "print(\"THE UPDATED DICT IS :\",get_dict(nested_dict,list_key))"
   ]
  },
  {
   "cell_type": "code",
   "execution_count": 17,
   "id": "11c789f0-b3f2-4c0f-97cb-318a28e1b604",
   "metadata": {},
   "outputs": [
    {
     "name": "stdin",
     "output_type": "stream",
     "text": [
      "Enter a dictionary (e.g.: {'a': 3, 'b': 1}):  {'a': 3, 'b': 1}\n",
      "Enter sorting order (asc/desc):  asc\n"
     ]
    },
    {
     "name": "stdout",
     "output_type": "stream",
     "text": [
      "Sorted keys: ['b', 'a']\n"
     ]
    }
   ],
   "source": [
    "#34 Write a code that take cer dictionary as input and return a started person of it based on the values you can choose whether to short in ascending or descending order\n",
    "\n",
    "def s(d, ascending=True):\n",
    "    return [k for k, v in sorted(d.items(), key=lambda item: item[1], reverse=not ascending)]\n",
    "\n",
    "import ast\n",
    "d = ast.literal_eval(input(\"Enter a dictionary (e.g.: {'a': 3, 'b': 1}): \"))\n",
    "order = input(\"Enter sorting order (asc/desc): \").strip().lower()\n",
    "ascending = order == 'asc'\n",
    "sorted_keys = s(d, ascending)\n",
    "print(\"Sorted keys:\", sorted_keys)\n"
   ]
  },
  {
   "cell_type": "code",
   "execution_count": 19,
   "id": "58dfbe93-b81b-46c6-bc5b-a751718fc6b7",
   "metadata": {},
   "outputs": [
    {
     "name": "stdin",
     "output_type": "stream",
     "text": [
      "Enter a dict (e.g: {'a': 1, 'b': 2, 'c': 1}):  {'a': 1, 'b': 2, 'c': 1}\n"
     ]
    },
    {
     "name": "stdout",
     "output_type": "stream",
     "text": [
      "Inverted dict :  {1: ['a', 'c'], 2: ['b']}\n"
     ]
    }
   ],
   "source": [
    "#35 Write a code that inverse a dictionary swapping keys and values in sure that the inverted dictionary correctly handles cases \n",
    "    #where multiple keys have the same value by stroing the keys as a list in the inverted dictionary\n",
    "    \n",
    "def in_dict(d):\n",
    "    in_dict = {}\n",
    "    for key, value in d.items():\n",
    "        if value in in_dict:\n",
    "            in_dict[value].append(key)\n",
    "        else:\n",
    "            in_dict[value] = [key]\n",
    "    return in_dict\n",
    "\n",
    "import ast\n",
    "d = ast.literal_eval(input(\"Enter a dict (e.g: {'a': 1, 'b': 2, 'c': 1}): \"))\n",
    "inverted = in_dict(d)\n",
    "print(\"Inverted dict : \", inverted)\n"
   ]
  }
 ],
 "metadata": {
  "kernelspec": {
   "display_name": "Python 3 (ipykernel)",
   "language": "python",
   "name": "python3"
  },
  "language_info": {
   "codemirror_mode": {
    "name": "ipython",
    "version": 3
   },
   "file_extension": ".py",
   "mimetype": "text/x-python",
   "name": "python",
   "nbconvert_exporter": "python",
   "pygments_lexer": "ipython3",
   "version": "3.10.8"
  }
 },
 "nbformat": 4,
 "nbformat_minor": 5
}
