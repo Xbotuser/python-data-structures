{
 "cells": [
  {
   "cell_type": "code",
   "execution_count": 1,
   "id": "f7d29c31-50b5-442d-9501-80f74b4f2047",
   "metadata": {},
   "outputs": [
    {
     "data": {
      "text/plain": [
       "'\\nFunctions help organize code, avoid repetition, and make it reusable and easier to maintain.\\n'"
      ]
     },
     "execution_count": 1,
     "metadata": {},
     "output_type": "execute_result"
    }
   ],
   "source": [
    "#1. Explain the importance of Functions.\n",
    "\"\"\"\n",
    "Functions help organize code, avoid repetition, and make it reusable and easier to maintain.\n",
    "\"\"\""
   ]
  },
  {
   "cell_type": "code",
   "execution_count": 2,
   "id": "f150b5f0-27b0-4fe8-b9a8-f78bad7f9ca2",
   "metadata": {},
   "outputs": [
    {
     "name": "stdout",
     "output_type": "stream",
     "text": [
      "Hello, students!\n"
     ]
    }
   ],
   "source": [
    "#2. Write a basic function to greet students.\n",
    "def greet():\n",
    "    return \"Hello, students!\"\n",
    "\n",
    "print(greet())"
   ]
  },
  {
   "cell_type": "code",
   "execution_count": 3,
   "id": "f78a568a-c544-440c-b019-44d2ce888d9d",
   "metadata": {},
   "outputs": [
    {
     "data": {
      "text/plain": [
       "'\\n`print` shows a value on the screen. `return` gives a value back to the place where the function was called.\\n'"
      ]
     },
     "execution_count": 3,
     "metadata": {},
     "output_type": "execute_result"
    }
   ],
   "source": [
    "#3. What is the difference between print and return statements?\n",
    "\"\"\"\n",
    "`print` shows a value on the screen. `return` gives a value back to the place where the function was called.\n",
    "\"\"\""
   ]
  },
  {
   "cell_type": "code",
   "execution_count": 4,
   "id": "ced8cee2-5b0a-4731-b337-5dfb1616cecb",
   "metadata": {},
   "outputs": [
    {
     "data": {
      "text/plain": [
       "'\\n`*args` lets you pass any number of positional arguments. `**kwargs` lets you pass any number of keyword arguments.\\n'"
      ]
     },
     "execution_count": 4,
     "metadata": {},
     "output_type": "execute_result"
    }
   ],
   "source": [
    "#4. What are *args and **kwargs?\n",
    "\"\"\"\n",
    "`*args` lets you pass any number of positional arguments. `**kwargs` lets you pass any number of keyword arguments.\n",
    "\"\"\""
   ]
  },
  {
   "cell_type": "code",
   "execution_count": 5,
   "id": "c9a45a4f-6e2a-49f8-a65a-4214ef259856",
   "metadata": {},
   "outputs": [
    {
     "data": {
      "text/plain": [
       "'\\nAn iterator function returns an iterator that can be used to iterate over a sequence of values.\\n'"
      ]
     },
     "execution_count": 5,
     "metadata": {},
     "output_type": "execute_result"
    }
   ],
   "source": [
    "#5. Explain the iterator function.\n",
    "\"\"\"\n",
    "An iterator function returns an iterator that can be used to iterate over a sequence of values.\n",
    "\"\"\""
   ]
  },
  {
   "cell_type": "code",
   "execution_count": 6,
   "id": "30045d33-93f2-4e84-82df-34e2a437a092",
   "metadata": {},
   "outputs": [
    {
     "name": "stdin",
     "output_type": "stream",
     "text": [
      "Enter the value for n:  5\n"
     ]
    },
    {
     "name": "stdout",
     "output_type": "stream",
     "text": [
      "[1, 4, 9, 16, 25]\n"
     ]
    }
   ],
   "source": [
    "#6. Write a code that generates the squares of numbers from 1 to n using a generator.\n",
    "def square_gen(n):\n",
    "    for i in range(1, n + 1):\n",
    "        yield i ** 2\n",
    "\n",
    "n = int(input(\"Enter the value for n: \"))\n",
    "print(list(square_gen(n)))"
   ]
  },
  {
   "cell_type": "code",
   "execution_count": 7,
   "id": "de6a83d5-403a-4a4d-894e-d942182f499f",
   "metadata": {},
   "outputs": [
    {
     "name": "stdin",
     "output_type": "stream",
     "text": [
      "Enter the value for n:  5\n"
     ]
    },
    {
     "name": "stdout",
     "output_type": "stream",
     "text": [
      "[1, 2, 3, 4, 5]\n"
     ]
    }
   ],
   "source": [
    "#7. Write a code that generates palindromic numbers up to n using a generator.\n",
    "def palin_gen(n):\n",
    "    for i in range(1, n + 1):\n",
    "        if str(i) == str(i)[::-1]:\n",
    "            yield i\n",
    "\n",
    "n = int(input(\"Enter the value for n: \"))\n",
    "print(list(palin_gen(n)))"
   ]
  },
  {
   "cell_type": "code",
   "execution_count": 8,
   "id": "9e8a487c-e761-437e-9156-eeae6b0ad1e0",
   "metadata": {},
   "outputs": [
    {
     "name": "stdin",
     "output_type": "stream",
     "text": [
      "Enter the value for n:  5\n"
     ]
    },
    {
     "name": "stdout",
     "output_type": "stream",
     "text": [
      "[2, 4]\n"
     ]
    }
   ],
   "source": [
    "#8. Write a code that generates even numbers from 2 to n using a generator.\n",
    "def even_gen(n):\n",
    "    for i in range(2, n + 1, 2):\n",
    "        yield i\n",
    "\n",
    "n = int(input(\"Enter the value for n: \"))\n",
    "print(list(even_gen(n)))"
   ]
  },
  {
   "cell_type": "code",
   "execution_count": 9,
   "id": "6fe46071-ff0d-4b39-a984-aaf3e3ffdfff",
   "metadata": {},
   "outputs": [
    {
     "name": "stdin",
     "output_type": "stream",
     "text": [
      "Enter the value for n:  5\n"
     ]
    },
    {
     "name": "stdout",
     "output_type": "stream",
     "text": [
      "[1, 2, 4]\n"
     ]
    }
   ],
   "source": [
    "#9. Write a code that generates powers of two up to n using a generator.\n",
    "def power_of_two_gen(n):\n",
    "    i = 1\n",
    "    while i <= n:\n",
    "        yield i\n",
    "        i *= 2\n",
    "\n",
    "n = int(input(\"Enter the value for n: \"))\n",
    "print(list(power_of_two_gen(n)))"
   ]
  },
  {
   "cell_type": "code",
   "execution_count": 10,
   "id": "0aa152e1-c61a-454f-bed8-2ebec0b15618",
   "metadata": {},
   "outputs": [
    {
     "name": "stdin",
     "output_type": "stream",
     "text": [
      "Enter the value for n:  5\n"
     ]
    },
    {
     "name": "stdout",
     "output_type": "stream",
     "text": [
      "[2, 3, 5]\n"
     ]
    }
   ],
   "source": [
    "#10. Write a code that generates prime numbers up to n using a generator.\n",
    "def prime_gen(n):\n",
    "    def is_prime(num):\n",
    "        if num < 2:\n",
    "            return False\n",
    "        for i in range(2, int(num**0.5) + 1):\n",
    "            if num % i == 0:\n",
    "                return False\n",
    "        return True\n",
    "    \n",
    "    for i in range(2, n + 1):\n",
    "        if is_prime(i):\n",
    "            yield i\n",
    "\n",
    "n = int(input(\"Enter the value for n: \"))\n",
    "print(list(prime_gen(n)))"
   ]
  },
  {
   "cell_type": "code",
   "execution_count": 11,
   "id": "5d9aa853-5acf-4fef-8cc1-ef32aa2929d2",
   "metadata": {},
   "outputs": [
    {
     "name": "stdin",
     "output_type": "stream",
     "text": [
      "Enter the first number:  1\n",
      "Enter the second number:  5\n"
     ]
    },
    {
     "name": "stdout",
     "output_type": "stream",
     "text": [
      "6\n"
     ]
    }
   ],
   "source": [
    "#11. Write a code that uses a lambda function to calculate the sum of two numbers.\n",
    "add = lambda x, y: x + y\n",
    "\n",
    "x = int(input(\"Enter the first number: \"))\n",
    "y = int(input(\"Enter the second number: \"))\n",
    "print(add(x, y))"
   ]
  },
  {
   "cell_type": "code",
   "execution_count": 12,
   "id": "3e999d56-1d45-447d-9796-0a8f1650fd59",
   "metadata": {},
   "outputs": [
    {
     "name": "stdin",
     "output_type": "stream",
     "text": [
      "Enter a number:  3\n"
     ]
    },
    {
     "name": "stdout",
     "output_type": "stream",
     "text": [
      "9\n"
     ]
    }
   ],
   "source": [
    "#12. Write a code that uses a lambda function to calculate the square of a given number.\n",
    "square = lambda x: x ** 2\n",
    "\n",
    "x = int(input(\"Enter a number: \"))\n",
    "print(square(x))"
   ]
  },
  {
   "cell_type": "code",
   "execution_count": 13,
   "id": "034a4ad6-1149-456b-a62f-e548392b021a",
   "metadata": {},
   "outputs": [
    {
     "name": "stdin",
     "output_type": "stream",
     "text": [
      "Enter a number:  13\n"
     ]
    },
    {
     "name": "stdout",
     "output_type": "stream",
     "text": [
      "Odd\n"
     ]
    }
   ],
   "source": [
    "#13. Write a code that uses a lambda function to check whether a given number is even or odd.\n",
    "is_even = lambda x: x % 2 == 0\n",
    "\n",
    "x = int(input(\"Enter a number: \"))\n",
    "print(\"Even\" if is_even(x) else \"Odd\")"
   ]
  },
  {
   "cell_type": "code",
   "execution_count": null,
   "id": "e7b22c2b-3227-4fb1-8f85-dc89861b1dba",
   "metadata": {},
   "outputs": [],
   "source": []
  },
  {
   "cell_type": "code",
   "execution_count": 14,
   "id": "648ede4d-d28d-4800-9d5f-c8f4a9eca0df",
   "metadata": {},
   "outputs": [
    {
     "name": "stdin",
     "output_type": "stream",
     "text": [
      "Enter the first string:  hello ram\n",
      "Enter the second string:  syaam\n"
     ]
    },
    {
     "name": "stdout",
     "output_type": "stream",
     "text": [
      "hello ramsyaam\n"
     ]
    }
   ],
   "source": [
    "#15. Write a code that uses a lambda function to concatenate two strings.\n",
    "concat = lambda a, b: a + b\n",
    "\n",
    "a = input(\"Enter the first string: \")\n",
    "b = input(\"Enter the second string: \")\n",
    "print(concat(a, b))"
   ]
  },
  {
   "cell_type": "code",
   "execution_count": 17,
   "id": "60f0f6e1-5a2a-400a-9b95-1c079baa07d3",
   "metadata": {},
   "outputs": [
    {
     "name": "stdin",
     "output_type": "stream",
     "text": [
      "Enter the first number:  2\n",
      "Enter the second number:  5\n",
      "Enter the third number:  8\n"
     ]
    },
    {
     "name": "stdout",
     "output_type": "stream",
     "text": [
      "8\n"
     ]
    }
   ],
   "source": [
    "#16. Write a code that uses a lambda function to find the maximum of three given numbers.\n",
    "max_of_three = lambda x, y, z: max(x, y, z)\n",
    "\n",
    "x = int(input(\"Enter the first number: \"))\n",
    "y = int(input(\"Enter the second number: \"))\n",
    "z = int(input(\"Enter the third number: \"))\n",
    "print(max_of_three(x, y, z))"
   ]
  },
  {
   "cell_type": "code",
   "execution_count": 18,
   "id": "9c504158-e518-4750-ba28-d36e4a2ad7fc",
   "metadata": {},
   "outputs": [
    {
     "name": "stdin",
     "output_type": "stream",
     "text": [
      "Enter numbers separated by spaces:  1 2 3 4 5\n"
     ]
    },
    {
     "name": "stdout",
     "output_type": "stream",
     "text": [
      "[4, 16]\n"
     ]
    }
   ],
   "source": [
    "#17. Write a code that generates the squares of even numbers from a given list.\n",
    "def even_squares(lst):\n",
    "    return [x**2 for x in lst if x % 2 == 0]\n",
    "\n",
    "lst = list(map(int, input(\"Enter numbers separated by spaces: \").split()))\n",
    "print(even_squares(lst))"
   ]
  },
  {
   "cell_type": "code",
   "execution_count": 19,
   "id": "9cbbcb9e-32d4-47b1-9e09-f18644930f1d",
   "metadata": {},
   "outputs": [
    {
     "name": "stdin",
     "output_type": "stream",
     "text": [
      "Enter numbers separated by spaces:  5 6 42 2\n"
     ]
    },
    {
     "name": "stdout",
     "output_type": "stream",
     "text": [
      "2520\n"
     ]
    }
   ],
   "source": [
    "#18. Write a code that calculates the product of positive numbers from a given list.\n",
    "from functools import reduce\n",
    "\n",
    "def positive_product(lst):\n",
    "    return reduce(lambda x, y: x * y, (x for x in lst if x > 0), 1)\n",
    "\n",
    "lst = list(map(int, input(\"Enter numbers separated by spaces: \").split()))\n",
    "print(positive_product(lst))"
   ]
  },
  {
   "cell_type": "code",
   "execution_count": 20,
   "id": "40ea79c5-d51c-4c98-bcc7-587ec128d82a",
   "metadata": {},
   "outputs": [
    {
     "name": "stdin",
     "output_type": "stream",
     "text": [
      "Enter numbers separated by spaces:  4 4 4 4 45\n"
     ]
    },
    {
     "name": "stdout",
     "output_type": "stream",
     "text": [
      "[90]\n"
     ]
    }
   ],
   "source": [
    "#19. Write a code that doubles the values of odd numbers from a given list.\n",
    "def double_odds(lst):\n",
    "    return [x * 2 for x in lst if x % 2 != 0]\n",
    "\n",
    "lst = list(map(int, input(\"Enter numbers separated by spaces: \").split()))\n",
    "print(double_odds(lst))"
   ]
  },
  {
   "cell_type": "code",
   "execution_count": 21,
   "id": "fb6e714d-df50-4183-a1dd-cb1b580a799e",
   "metadata": {},
   "outputs": [
    {
     "name": "stdin",
     "output_type": "stream",
     "text": [
      "Enter numbers separated by spaces:  5 4 6 4\n"
     ]
    },
    {
     "name": "stdout",
     "output_type": "stream",
     "text": [
      "469\n"
     ]
    }
   ],
   "source": [
    "#20. Write a code that calculates the sum of cubes of numbers from a given list.\n",
    "def sum_of_cubes(lst):\n",
    "    return sum(x**3 for x in lst)\n",
    "\n",
    "lst = list(map(int, input(\"Enter numbers separated by spaces: \").split()))\n",
    "print(sum_of_cubes(lst))"
   ]
  },
  {
   "cell_type": "code",
   "execution_count": 22,
   "id": "edd0fac4-ceca-4883-9b78-5b2c2c84b6bd",
   "metadata": {},
   "outputs": [
    {
     "name": "stdin",
     "output_type": "stream",
     "text": [
      "Enter numbers separated by spaces:  5 6 7 8\n"
     ]
    },
    {
     "name": "stdout",
     "output_type": "stream",
     "text": [
      "[5, 7]\n"
     ]
    }
   ],
   "source": [
    "#21. Write a code that filters out prime numbers from a given list.\n",
    "def filter_primes(lst):\n",
    "    def is_prime(num):\n",
    "        if num < 2:\n",
    "            return False\n",
    "        for i in range(2, int(num**0.5) + 1):\n",
    "            if num % i == 0:\n",
    "                return False\n",
    "        return True\n",
    "    \n",
    "    return [x for x in lst if is_prime(x)]\n",
    "\n",
    "lst = list(map(int, input(\"Enter numbers separated by spaces: \").split()))\n",
    "print(filter_primes(lst))"
   ]
  },
  {
   "cell_type": "code",
   "execution_count": 23,
   "id": "5844ec23-9b7b-4f98-88c9-bac5067a2235",
   "metadata": {},
   "outputs": [
    {
     "name": "stdin",
     "output_type": "stream",
     "text": [
      "Enter the first number:  2\n",
      "Enter the second number:  3\n"
     ]
    },
    {
     "name": "stdout",
     "output_type": "stream",
     "text": [
      "5\n"
     ]
    }
   ],
   "source": [
    "#22. Write a code that uses a lambda function to calculate the sum of two numbers.\n",
    "add = lambda x, y: x + y\n",
    "\n",
    "x = int(input(\"Enter the first number: \"))\n",
    "y = int(input(\"Enter the second number: \"))\n",
    "print(add(x, y))"
   ]
  },
  {
   "cell_type": "code",
   "execution_count": 24,
   "id": "9105b1b8-f8fc-4727-a681-8b5893b3f47a",
   "metadata": {},
   "outputs": [
    {
     "name": "stdin",
     "output_type": "stream",
     "text": [
      "Enter a number:  45465\n"
     ]
    },
    {
     "name": "stdout",
     "output_type": "stream",
     "text": [
      "2067066225\n"
     ]
    }
   ],
   "source": [
    "#23. Write a code that uses a lambda function to calculate the square of a given number.\n",
    "square = lambda x: x ** 2\n",
    "\n",
    "x = int(input(\"Enter a number: \"))\n",
    "print(square(x))"
   ]
  },
  {
   "cell_type": "code",
   "execution_count": 25,
   "id": "d410502f-0cb5-4703-969b-847cab1d2dde",
   "metadata": {},
   "outputs": [
    {
     "name": "stdin",
     "output_type": "stream",
     "text": [
      "Enter a number:  3434\n"
     ]
    },
    {
     "name": "stdout",
     "output_type": "stream",
     "text": [
      "Even\n"
     ]
    }
   ],
   "source": [
    "#24. Write a code that uses a lambda function to check whether a given number is even or odd.\n",
    "is_even = lambda x: x % 2 == 0\n",
    "\n",
    "x = int(input(\"Enter a number: \"))\n",
    "print(\"Even\" if is_even(x) else \"Odd\")"
   ]
  },
  {
   "cell_type": "code",
   "execution_count": 26,
   "id": "6c1ffa7c-7fdc-4d2b-9e0f-be24a0a578b0",
   "metadata": {},
   "outputs": [
    {
     "name": "stdin",
     "output_type": "stream",
     "text": [
      "Enter the first string:  hello\n",
      "Enter the second string:  himashu\n"
     ]
    },
    {
     "name": "stdout",
     "output_type": "stream",
     "text": [
      "hellohimashu\n"
     ]
    }
   ],
   "source": [
    "#25. Write a code that uses a lambda function to concatenate two strings.\n",
    "concat = lambda a, b: a + b\n",
    "\n",
    "a = input(\"Enter the first string: \")\n",
    "b = input(\"Enter the second string: \")\n",
    "print(concat(a, b))"
   ]
  },
  {
   "cell_type": "code",
   "execution_count": 27,
   "id": "8d18ef19-ce20-4b11-9da1-eebbd4685971",
   "metadata": {},
   "outputs": [
    {
     "name": "stdin",
     "output_type": "stream",
     "text": [
      "Enter the first number:  34\n",
      "Enter the second number:  4\n",
      "Enter the third number:  6\n"
     ]
    },
    {
     "name": "stdout",
     "output_type": "stream",
     "text": [
      "34\n"
     ]
    }
   ],
   "source": [
    "#26. Write a code that uses a lambda function to find the maximum of three given numbers.\n",
    "max_of_three = lambda x, y, z: max(x, y, z)\n",
    "\n",
    "x = int(input(\"Enter the first number: \"))\n",
    "y = int(input(\"Enter the second number: \"))\n",
    "z = int(input(\"Enter the third number: \"))\n",
    "print(max_of_three(x, y, z))"
   ]
  },
  {
   "cell_type": "code",
   "execution_count": 28,
   "id": "39e77d77-57c8-4e03-b324-c8f0f4815e8e",
   "metadata": {},
   "outputs": [
    {
     "data": {
      "text/plain": [
       "'\\nEncapsulation means keeping data and methods in one unit (class) and restricting access to some components.\\n'"
      ]
     },
     "execution_count": 28,
     "metadata": {},
     "output_type": "execute_result"
    }
   ],
   "source": [
    "#27. What is encapsulation in OOP?\n",
    "\"\"\"\n",
    "Encapsulation means keeping data and methods in one unit (class) and restricting access to some components.\n",
    "\"\"\""
   ]
  },
  {
   "cell_type": "code",
   "execution_count": 29,
   "id": "1d5700fd-9921-47f8-a709-9f18a58a6e7e",
   "metadata": {},
   "outputs": [
    {
     "data": {
      "text/plain": [
       "'\\nAccess modifiers control access to class attributes and methods. In Python, private attributes are indicated by `__`.\\n'"
      ]
     },
     "execution_count": 29,
     "metadata": {},
     "output_type": "execute_result"
    }
   ],
   "source": [
    "#28. Explain the use of access modifiers in Python classes.\n",
    "\"\"\"\n",
    "Access modifiers control access to class attributes and methods. In Python, private attributes are indicated by `__`.\n",
    "\"\"\""
   ]
  },
  {
   "cell_type": "code",
   "execution_count": 30,
   "id": "fae60e63-2cca-4e6f-bd2d-8886ec610ff4",
   "metadata": {},
   "outputs": [
    {
     "data": {
      "text/plain": [
       "'\\nInheritance allows one class to inherit attributes and methods from another class, promoting code reuse.\\n'"
      ]
     },
     "execution_count": 30,
     "metadata": {},
     "output_type": "execute_result"
    }
   ],
   "source": [
    "#29. What is inheritance in OOP?\n",
    "\"\"\"\n",
    "Inheritance allows one class to inherit attributes and methods from another class, promoting code reuse.\n",
    "\"\"\""
   ]
  },
  {
   "cell_type": "code",
   "execution_count": 31,
   "id": "2c890697-1902-434d-83ad-eb9c7b9e6ddb",
   "metadata": {},
   "outputs": [
    {
     "data": {
      "text/plain": [
       "'\\nPolymorphism allows methods to have different behaviors based on the object they are called on.\\n'"
      ]
     },
     "execution_count": 31,
     "metadata": {},
     "output_type": "execute_result"
    }
   ],
   "source": [
    "#30. Define polymorphism in OOP.\n",
    "\"\"\"\n",
    "Polymorphism allows methods to have different behaviors based on the object they are called on.\n",
    "\"\"\""
   ]
  },
  {
   "cell_type": "code",
   "execution_count": 32,
   "id": "3814dcba-b5b0-47dd-a16c-01d1a066402d",
   "metadata": {},
   "outputs": [
    {
     "data": {
      "text/plain": [
       "'\\nMethod overriding lets a subclass provide a specific implementation of a method already defined in its superclass.\\n'"
      ]
     },
     "execution_count": 32,
     "metadata": {},
     "output_type": "execute_result"
    }
   ],
   "source": [
    "#31. Explain method overriding in Python.\n",
    "\"\"\"\n",
    "Method overriding lets a subclass provide a specific implementation of a method already defined in its superclass.\n",
    "\"\"\""
   ]
  },
  {
   "cell_type": "code",
   "execution_count": 33,
   "id": "bce78d05-7d55-4a3a-92cc-8480fc24622b",
   "metadata": {},
   "outputs": [
    {
     "name": "stdout",
     "output_type": "stream",
     "text": [
      "Woof!\n"
     ]
    }
   ],
   "source": [
    "#32. Define a parent class Animal with a method make_sound that prints \"Generic animal sound\". Create a child class Dog inheriting from Animal with a method make_sound that prints \"Woof!\".\n",
    "class Animal:\n",
    "    def make_sound(self):\n",
    "        print(\"Generic animal sound\")\n",
    "\n",
    "class Dog(Animal):\n",
    "    def make_sound(self):\n",
    "        print(\"Woof!\")\n",
    "\n",
    "d = Dog()\n",
    "d.make_sound()"
   ]
  },
  {
   "cell_type": "code",
   "execution_count": 34,
   "id": "1f321545-ed36-4552-a856-ad431eb0b677",
   "metadata": {},
   "outputs": [
    {
     "name": "stdout",
     "output_type": "stream",
     "text": [
      "Dog runs\n"
     ]
    }
   ],
   "source": [
    "#33. Define a method move in the Animal class that prints \"Animal moves\". Override the move method in the Dog class to print \"Dog runs.\"\n",
    "class Animal:\n",
    "    def move(self):\n",
    "        print(\"Animal moves\")\n",
    "\n",
    "class Dog(Animal):\n",
    "    def move(self):\n",
    "        print(\"Dog runs\")\n",
    "\n",
    "d = Dog()\n",
    "d.move()"
   ]
  },
  {
   "cell_type": "code",
   "execution_count": 37,
   "id": "2b003e41-079f-46d8-bc51-9f4dd30e4d40",
   "metadata": {},
   "outputs": [
    {
     "name": "stdout",
     "output_type": "stream",
     "text": [
      "Giving birth to live young\n",
      "Woof!\n"
     ]
    }
   ],
   "source": [
    "#34. Create a class Mammal with a method reproduce that prints \"Giving birth to live young.\" Create a class DogMammal inheriting from both Dog and Mammal.\n",
    "class Mammal:\n",
    "    def reproduce(self):\n",
    "        print(\"Giving birth to live young\")\n",
    "\n",
    "class DogMammal(Mammal):\n",
    "    def make_sound(self):\n",
    "        print(\"Woof!\")\n",
    "\n",
    "class Dog(DogMammal):\n",
    "    pass\n",
    "\n",
    "d = Dog()\n",
    "d.reproduce()\n",
    "d.make_sound()"
   ]
  },
  {
   "cell_type": "code",
   "execution_count": 38,
   "id": "2e1deae8-3ccf-4ee7-87e3-bb70914ba29a",
   "metadata": {},
   "outputs": [
    {
     "name": "stdout",
     "output_type": "stream",
     "text": [
      "Bark!\n"
     ]
    }
   ],
   "source": [
    "#35. Create a class German Shepherd inheriting from Dog and override the make_sound method to print \"Bark!\"\n",
    "class Dog:\n",
    "    def make_sound(self):\n",
    "        print(\"Woof!\")\n",
    "\n",
    "class GermanShepherd(Dog):\n",
    "    def make_sound(self):\n",
    "        print(\"Bark!\")\n",
    "\n",
    "g = GermanShepherd()\n",
    "g.make_sound()"
   ]
  },
  {
   "cell_type": "code",
   "execution_count": 39,
   "id": "6081495e-175f-4dfa-9cd1-9137e1cdd43f",
   "metadata": {},
   "outputs": [
    {
     "name": "stdout",
     "output_type": "stream",
     "text": [
      "Dog Labrador\n"
     ]
    }
   ],
   "source": [
    "#36. Define constructors in both the Animal and Dog classes with different initialization parameters.\n",
    "class Animal:\n",
    "    def __init__(self, species):\n",
    "        self.species = species\n",
    "\n",
    "class Dog(Animal):\n",
    "    def __init__(self, breed):\n",
    "        super().__init__(\"Dog\")\n",
    "        self.breed = breed\n",
    "\n",
    "d = Dog(\"Labrador\")\n",
    "print(d.species, d.breed)"
   ]
  },
  {
   "cell_type": "code",
   "execution_count": 40,
   "id": "b2905243-c531-4dd1-9383-6fddb11be65b",
   "metadata": {},
   "outputs": [
    {
     "data": {
      "text/plain": [
       "\"\\nAbstraction hides complex implementation details and shows only essential features. It's implemented using abstract classes and methods.\\n\""
      ]
     },
     "execution_count": 40,
     "metadata": {},
     "output_type": "execute_result"
    }
   ],
   "source": [
    "#37. What is abstraction in Python? How is it implemented?\n",
    "\"\"\"\n",
    "Abstraction hides complex implementation details and shows only essential features. It's implemented using abstract classes and methods.\n",
    "\"\"\""
   ]
  },
  {
   "cell_type": "code",
   "execution_count": 41,
   "id": "2dd423c0-14ed-4dcf-8575-b4d0978e0e6b",
   "metadata": {},
   "outputs": [
    {
     "data": {
      "text/plain": [
       "'\\nAbstraction simplifies code by hiding details and exposing only necessary parts, making it easier to understand and maintain.\\n'"
      ]
     },
     "execution_count": 41,
     "metadata": {},
     "output_type": "execute_result"
    }
   ],
   "source": [
    "#38. Explain the importance of abstraction in object-oriented programming.\n",
    "\"\"\"\n",
    "Abstraction simplifies code by hiding details and exposing only necessary parts, making it easier to understand and maintain.\n",
    "\"\"\""
   ]
  },
  {
   "cell_type": "code",
   "execution_count": 42,
   "id": "49c9452c-3606-4736-8ff9-d79f8a97e3ce",
   "metadata": {},
   "outputs": [
    {
     "data": {
      "text/plain": [
       "'\\nAbstract methods are defined in abstract classes and must be implemented by subclasses. Regular methods have implementations.\\n'"
      ]
     },
     "execution_count": 42,
     "metadata": {},
     "output_type": "execute_result"
    }
   ],
   "source": [
    "#39. How are abstract methods different from regular methods in Python?\n",
    "\"\"\"\n",
    "Abstract methods are defined in abstract classes and must be implemented by subclasses. Regular methods have implementations.\n",
    "\"\"\""
   ]
  },
  {
   "cell_type": "code",
   "execution_count": 46,
   "id": "70f8356b-ff15-4af8-b448-b882439fdc43",
   "metadata": {},
   "outputs": [
    {
     "data": {
      "text/plain": [
       "'\\nAbstraction can be achieved using abstract base classes (ABCs) which define abstract methods that subclasses must implement.\\n'"
      ]
     },
     "execution_count": 46,
     "metadata": {},
     "output_type": "execute_result"
    }
   ],
   "source": [
    "#40. How can you achieve abstraction using interfaces in Python?\n",
    "\"\"\"\n",
    "Abstraction can be achieved using abstract base classes (ABCs) which define abstract methods that subclasses must implement.\n",
    "\"\"\""
   ]
  },
  {
   "cell_type": "code",
   "execution_count": 43,
   "id": "29b00016-72b1-4152-9592-3aafec5ef186",
   "metadata": {},
   "outputs": [
    {
     "name": "stdout",
     "output_type": "stream",
     "text": [
      "Circle area: 78.5\n",
      "Rectangle area: 24\n"
     ]
    }
   ],
   "source": [
    "#41. Can you provide an example of how abstraction can be utilized to create a common interface for a group of related classes in Python?\n",
    "from abc import ABC, abstractmethod\n",
    "\n",
    "class Shape(ABC):\n",
    "    @abstractmethod\n",
    "    def area(self):\n",
    "        pass\n",
    "\n",
    "class Circle(Shape):\n",
    "    def __init__(self, radius):\n",
    "        self.radius = radius\n",
    "\n",
    "    def area(self):\n",
    "        return 3.14 * self.radius ** 2\n",
    "\n",
    "class Rectangle(Shape):\n",
    "    def __init__(self, width, height):\n",
    "        self.width = width\n",
    "        self.height = height\n",
    "\n",
    "    def area(self):\n",
    "        return self.width * self.height\n",
    "\n",
    "circle = Circle(5)\n",
    "rectangle = Rectangle(4, 6)\n",
    "print(f\"Circle area: {circle.area()}\")\n",
    "print(f\"Rectangle area: {rectangle.area()}\")"
   ]
  },
  {
   "cell_type": "code",
   "execution_count": 44,
   "id": "e95f7031-7e2c-49d9-8e24-a3100dfdfd6b",
   "metadata": {},
   "outputs": [
    {
     "data": {
      "text/plain": [
       "'\\nPython achieves polymorphism by allowing subclasses to override methods defined in their parent classes.\\n'"
      ]
     },
     "execution_count": 44,
     "metadata": {},
     "output_type": "execute_result"
    }
   ],
   "source": [
    "#42. How does Python achieve polymorphism through method overriding?\n",
    "\"\"\"\n",
    "Python achieves polymorphism by allowing subclasses to override methods defined in their parent classes.\n",
    "\"\"\""
   ]
  },
  {
   "cell_type": "code",
   "execution_count": 45,
   "id": "5f79bf2a-953f-458b-9e36-cf885a5310c6",
   "metadata": {},
   "outputs": [
    {
     "name": "stdout",
     "output_type": "stream",
     "text": [
      "Derived method\n"
     ]
    }
   ],
   "source": [
    "#43. Define a base class with a method and a subclass that overrides the method.\n",
    "class Base:\n",
    "    def method(self):\n",
    "        print(\"Base method\")\n",
    "\n",
    "class Derived(Base):\n",
    "    def method(self):\n",
    "        print(\"Derived method\")\n",
    "\n",
    "d = Derived()\n",
    "d.method()"
   ]
  },
  {
   "cell_type": "code",
   "execution_count": 47,
   "id": "e308bc5f-5fe5-44a6-a6b6-ebb4a07440cc",
   "metadata": {},
   "outputs": [
    {
     "name": "stdout",
     "output_type": "stream",
     "text": [
      "Woof!\n",
      "Meow!\n"
     ]
    }
   ],
   "source": [
    "#44. Define a base class and multiple subclasses with overridden methods.\n",
    "class Animal:\n",
    "    def sound(self):\n",
    "        print(\"Animal sound\")\n",
    "\n",
    "class Dog(Animal):\n",
    "    def sound(self):\n",
    "        print(\"Woof!\")\n",
    "\n",
    "class Cat(Animal):\n",
    "    def sound(self):\n",
    "        print(\"Meow!\")\n",
    "\n",
    "dog = Dog()\n",
    "cat = Cat()\n",
    "dog.sound()\n",
    "cat.sound()"
   ]
  },
  {
   "cell_type": "code",
   "execution_count": 48,
   "id": "874cc034-29f3-4446-8547-b5c7b424f37e",
   "metadata": {},
   "outputs": [
    {
     "data": {
      "text/plain": [
       "'\\nPolymorphism allows using the same method name for different types of objects, making code more flexible and easier to read and reuse.\\n'"
      ]
     },
     "execution_count": 48,
     "metadata": {},
     "output_type": "execute_result"
    }
   ],
   "source": [
    "#45. How does polymorphism improve code readability and reusability?\n",
    "\"\"\"\n",
    "Polymorphism allows using the same method name for different types of objects, making code more flexible and easier to read and reuse.\n",
    "\"\"\""
   ]
  },
  {
   "cell_type": "code",
   "execution_count": 49,
   "id": "46c45e72-0f01-46bc-a263-3fd1d628bb55",
   "metadata": {},
   "outputs": [
    {
     "data": {
      "text/plain": [
       "'\\nPython supports polymorphism with duck typing, meaning if an object behaves like a particular type, it can be used in place of it, regardless of its actual type.\\n'"
      ]
     },
     "execution_count": 49,
     "metadata": {},
     "output_type": "execute_result"
    }
   ],
   "source": [
    "#46. Describe how Python supports polymorphism with duck typing.\n",
    "\"\"\"\n",
    "Python supports polymorphism with duck typing, meaning if an object behaves like a particular type, it can be used in place of it, regardless of its actual type.\n",
    "\"\"\""
   ]
  },
  {
   "cell_type": "code",
   "execution_count": 50,
   "id": "f3b406c9-4d02-4bc6-8ccd-eb7648d0d4e4",
   "metadata": {},
   "outputs": [
    {
     "data": {
      "text/plain": [
       "'\\nEncapsulation is achieved using private attributes (prefixing with `__`) and methods to hide and protect data.\\n'"
      ]
     },
     "execution_count": 50,
     "metadata": {},
     "output_type": "execute_result"
    }
   ],
   "source": [
    "#47. How do you achieve encapsulation in Python?\n",
    "\"\"\"\n",
    "Encapsulation is achieved using private attributes (prefixing with `__`) and methods to hide and protect data.\n",
    "\"\"\""
   ]
  },
  {
   "cell_type": "code",
   "execution_count": 51,
   "id": "d2ad9a84-b2ee-499e-8626-85d07c8d4b83",
   "metadata": {},
   "outputs": [
    {
     "data": {
      "text/plain": [
       "'\\nYes, encapsulation can be bypassed using name mangling (e.g., `_ClassName__attribute`).\\n'"
      ]
     },
     "execution_count": 51,
     "metadata": {},
     "output_type": "execute_result"
    }
   ],
   "source": [
    "#48. Can encapsulation be bypassed in Python? If so, how?\n",
    "\"\"\"\n",
    "Yes, encapsulation can be bypassed using name mangling (e.g., `_ClassName__attribute`).\n",
    "\"\"\""
   ]
  },
  {
   "cell_type": "code",
   "execution_count": 54,
   "id": "39866587-75a8-4d8e-8296-0c8d5342420c",
   "metadata": {},
   "outputs": [
    {
     "name": "stdin",
     "output_type": "stream",
     "text": [
      "Enter deposit amount:  2\n",
      "Enter withdrawal amount:  2\n"
     ]
    },
    {
     "name": "stdout",
     "output_type": "stream",
     "text": [
      "Balance: 0.0\n"
     ]
    }
   ],
   "source": [
    "#49. Implement a class BankAccount with a private balance attribute. Include methods to deposit, withdraw, and check the balance.\n",
    "class BankAccount:\n",
    "    def __init__(self):\n",
    "        self.__balance = 0\n",
    "\n",
    "    def deposit(self, amount):\n",
    "        self.__balance += amount\n",
    "\n",
    "    def withdraw(self, amount):\n",
    "        if amount <= self.__balance:\n",
    "            self.__balance -= amount\n",
    "\n",
    "    def get_balance(self):\n",
    "        return self.__balance\n",
    "\n",
    "account = BankAccount()\n",
    "account.deposit(float(input(\"Enter deposit amount: \")))\n",
    "account.withdraw(float(input(\"Enter withdrawal amount: \")))\n",
    "print(\"Balance:\", account.get_balance())"
   ]
  },
  {
   "cell_type": "code",
   "execution_count": 55,
   "id": "4e53425f-ebc2-4a9b-a671-c440d213ed41",
   "metadata": {},
   "outputs": [
    {
     "name": "stdin",
     "output_type": "stream",
     "text": [
      "Enter name:  h\n",
      "Enter email:  as\n"
     ]
    },
    {
     "name": "stdout",
     "output_type": "stream",
     "text": [
      "Email: as\n"
     ]
    },
    {
     "name": "stdin",
     "output_type": "stream",
     "text": [
      "Enter new email:  sfdg\n"
     ]
    },
    {
     "name": "stdout",
     "output_type": "stream",
     "text": [
      "Updated Email: sfdg\n"
     ]
    }
   ],
   "source": [
    "#50. Develop a Person class with private attributes name and email, and methods to set and get the email.\n",
    "class Person:\n",
    "    def __init__(self, name, email):\n",
    "        self.__name = name\n",
    "        self.__email = email\n",
    "\n",
    "    def set_email(self, email):\n",
    "        self.__email = email\n",
    "\n",
    "    def get_email(self):\n",
    "        return self.__email\n",
    "\n",
    "person = Person(input(\"Enter name: \"), input(\"Enter email: \"))\n",
    "print(\"Email:\", person.get_email())\n",
    "person.set_email(input(\"Enter new email: \"))\n",
    "print(\"Updated Email:\", person.get_email())"
   ]
  },
  {
   "cell_type": "code",
   "execution_count": 56,
   "id": "ea8de5a0-6aa6-40e2-9af7-d40d7b39fae1",
   "metadata": {},
   "outputs": [
    {
     "data": {
      "text/plain": [
       "\"\\nEncapsulation hides an object's internal state and requires all interaction to be performed through methods, protecting and managing access to data.\\n\""
      ]
     },
     "execution_count": 56,
     "metadata": {},
     "output_type": "execute_result"
    }
   ],
   "source": [
    "#51. Why is encapsulation considered a pillar of object-oriented programming (OOP)?\n",
    "\"\"\"\n",
    "Encapsulation hides an object's internal state and requires all interaction to be performed through methods, protecting and managing access to data.\n",
    "\"\"\""
   ]
  },
  {
   "cell_type": "code",
   "execution_count": 57,
   "id": "785b3051-4ff3-45c6-b8d2-943f2c8cc06e",
   "metadata": {},
   "outputs": [
    {
     "name": "stdout",
     "output_type": "stream",
     "text": [
      "Before\n",
      "Function execution\n",
      "After\n"
     ]
    }
   ],
   "source": [
    "#52. Create a decorator in Python that adds functionality to a simple function by printing a message before and after the function execution.\n",
    "def my_decorator(func):\n",
    "    def wrapper(*args, **kwargs):\n",
    "        print(\"Before\")\n",
    "        result = func(*args, **kwargs)\n",
    "        print(\"After\")\n",
    "        return result\n",
    "    return wrapper\n",
    "\n",
    "@my_decorator\n",
    "def simple_function():\n",
    "    print(\"Function execution\")\n",
    "\n",
    "simple_function()"
   ]
  },
  {
   "cell_type": "code",
   "execution_count": 58,
   "id": "2fab9220-0ffd-41e7-9eb8-0ac2766c0825",
   "metadata": {},
   "outputs": [
    {
     "name": "stdout",
     "output_type": "stream",
     "text": [
      "Logging - Before simple_function\n",
      "Function execution\n",
      "Logging - After simple_function\n"
     ]
    }
   ],
   "source": [
    "#53. Modify the decorator to accept arguments and print the function name along with the message.\n",
    "def my_decorator(msg):\n",
    "    def decorator(func):\n",
    "        def wrapper(*args, **kwargs):\n",
    "            print(f\"{msg} - Before {func.__name__}\")\n",
    "            result = func(*args, **kwargs)\n",
    "            print(f\"{msg} - After {func.__name__}\")\n",
    "            return result\n",
    "        return wrapper\n",
    "    return decorator\n",
    "\n",
    "@my_decorator(\"Logging\")\n",
    "def simple_function():\n",
    "    print(\"Function execution\")\n",
    "\n",
    "simple_function()"
   ]
  },
  {
   "cell_type": "code",
   "execution_count": 59,
   "id": "fef35dad-dbb2-4559-bdd3-1f7863e8c241",
   "metadata": {},
   "outputs": [
    {
     "name": "stdout",
     "output_type": "stream",
     "text": [
      "Deco1\n",
      "Deco2\n",
      "Function\n"
     ]
    }
   ],
   "source": [
    "#54. Create two decorators, and apply them to a single function. Ensure that they execute in the order they are applied.\n",
    "def deco1(func):\n",
    "    def wrapper(*args, **kwargs):\n",
    "        print(\"Deco1\")\n",
    "        return func(*args, **kwargs)\n",
    "    return wrapper\n",
    "\n",
    "def deco2(func):\n",
    "    def wrapper(*args, **kwargs):\n",
    "        print(\"Deco2\")\n",
    "        return func(*args, **kwargs)\n",
    "    return wrapper\n",
    "\n",
    "@deco1\n",
    "@deco2\n",
    "def my_func():\n",
    "    print(\"Function\")\n",
    "\n",
    "my_func()"
   ]
  },
  {
   "cell_type": "code",
   "execution_count": 60,
   "id": "87a37459-d7cc-4968-8609-99fd5d19972a",
   "metadata": {},
   "outputs": [
    {
     "name": "stdin",
     "output_type": "stream",
     "text": [
      "Enter the first number:  45\n",
      "Enter the second number:  4\n"
     ]
    },
    {
     "name": "stdout",
     "output_type": "stream",
     "text": [
      "Decorator\n",
      "Sum: 49\n"
     ]
    }
   ],
   "source": [
    "#55. Modify the decorator to accept and pass function arguments to the wrapped function.\n",
    "def my_decorator(func):\n",
    "    def wrapper(*args, **kwargs):\n",
    "        print(\"Decorator\")\n",
    "        return func(*args, **kwargs)\n",
    "    return wrapper\n",
    "\n",
    "@my_decorator\n",
    "def add(x, y):\n",
    "    return x + y\n",
    "\n",
    "x = int(input(\"Enter the first number: \"))\n",
    "y = int(input(\"Enter the second number: \"))\n",
    "print(\"Sum:\", add(x, y))"
   ]
  },
  {
   "cell_type": "code",
   "execution_count": 61,
   "id": "be7cfa6e-0dfa-4564-ac16-c4077f5d3d14",
   "metadata": {},
   "outputs": [
    {
     "name": "stdout",
     "output_type": "stream",
     "text": [
      "example_function\n",
      "This is an example function.\n"
     ]
    }
   ],
   "source": [
    "#56. Create a decorator that preserves the metadata of the original function.\n",
    "from functools import wraps\n",
    "\n",
    "def preserve_metadata(func):\n",
    "    @wraps(func)\n",
    "    def wrapper(*args, **kwargs):\n",
    "        return func(*args, **kwargs)\n",
    "    return wrapper\n",
    "\n",
    "@preserve_metadata\n",
    "def example_function():\n",
    "    \"\"\"This is an example function.\"\"\"\n",
    "    return \"Hello\"\n",
    "\n",
    "print(example_function.__name__)\n",
    "print(example_function.__doc__)"
   ]
  },
  {
   "cell_type": "code",
   "execution_count": 62,
   "id": "ddc3588c-9029-49ab-a1af-6ad5f098e439",
   "metadata": {},
   "outputs": [
    {
     "name": "stdin",
     "output_type": "stream",
     "text": [
      "Enter the first number:  4\n",
      "Enter the second number:  4\n"
     ]
    },
    {
     "name": "stdout",
     "output_type": "stream",
     "text": [
      "Sum: 8\n"
     ]
    }
   ],
   "source": [
    "#57. Create a Python class 'Calculator' with a static method add that takes in two numbers and returns their sum.\n",
    "class Calculator:\n",
    "    @staticmethod\n",
    "    def add(x, y):\n",
    "        return x + y\n",
    "\n",
    "x = int(input(\"Enter the first number: \"))\n",
    "y = int(input(\"Enter the second number: \"))\n",
    "print(\"Sum:\", Calculator.add(x, y))"
   ]
  },
  {
   "cell_type": "code",
   "execution_count": 63,
   "id": "10909216-40d8-4012-a38a-61437a60bd6c",
   "metadata": {},
   "outputs": [
    {
     "name": "stdout",
     "output_type": "stream",
     "text": [
      "Total employees: 2\n"
     ]
    }
   ],
   "source": [
    "#58. Create a Python class 'Employee' with a class method get_employee_count that returns the total number of employees created.\n",
    "class Employee:\n",
    "    count = 0\n",
    "\n",
    "    def __init__(self):\n",
    "        Employee.count += 1\n",
    "\n",
    "    @classmethod\n",
    "    def get_count(cls):\n",
    "        return cls.count\n",
    "\n",
    "e1 = Employee()\n",
    "e2 = Employee()\n",
    "print(\"Total employees:\", Employee.get_count())"
   ]
  },
  {
   "cell_type": "code",
   "execution_count": 65,
   "id": "03b8f621-d102-4e23-90f0-0da2632e1311",
   "metadata": {},
   "outputs": [
    {
     "name": "stdin",
     "output_type": "stream",
     "text": [
      "Enter a string:  abcd\n"
     ]
    },
    {
     "name": "stdout",
     "output_type": "stream",
     "text": [
      "Reversed string: dcba\n"
     ]
    }
   ],
   "source": [
    "#59. Create a Python class 'StringFormatter' with a static method reverse_string that takes a string as input and returns its reverse.\n",
    "class StringFormatter:\n",
    "    @staticmethod\n",
    "    def reverse(s):\n",
    "        return s[::-1]\n",
    "\n",
    "s = input(\"Enter a string: \")\n",
    "print(\"Reversed string:\", StringFormatter.reverse(s))"
   ]
  },
  {
   "cell_type": "code",
   "execution_count": 66,
   "id": "d62c60a5-fef4-4fac-b94c-8dba5b1ff09b",
   "metadata": {},
   "outputs": [
    {
     "name": "stdin",
     "output_type": "stream",
     "text": [
      "Enter radius:  4\n"
     ]
    },
    {
     "name": "stdout",
     "output_type": "stream",
     "text": [
      "Circle area: 50.24\n"
     ]
    }
   ],
   "source": [
    "#60. Create a Python class 'Circle' with a class method calculate_area that calculates the area of a circle given its radius.\n",
    "class Circle:\n",
    "    @classmethod\n",
    "    def area(cls, r):\n",
    "        return 3.14 * r ** 2\n",
    "\n",
    "radius = float(input(\"Enter radius: \"))\n",
    "print(\"Circle area:\", Circle.area(radius))"
   ]
  },
  {
   "cell_type": "code",
   "execution_count": 67,
   "id": "2900da2c-3370-43a1-abbc-51652901e6f2",
   "metadata": {},
   "outputs": [
    {
     "name": "stdin",
     "output_type": "stream",
     "text": [
      "Enter temperature in Celsius:  45\n"
     ]
    },
    {
     "name": "stdout",
     "output_type": "stream",
     "text": [
      "Temperature in Fahrenheit: 113.0\n"
     ]
    }
   ],
   "source": [
    "#61. Create a Python class 'TemperatureConverter' with a static method celsius_to_fahrenheit that converts Celsius to Fahrenheit.\n",
    "class TemperatureConverter:\n",
    "    @staticmethod\n",
    "    def celsius_to_fahrenheit(c):\n",
    "        return c * 9/5 + 32\n",
    "\n",
    "celsius = float(input(\"Enter temperature in Celsius: \"))\n",
    "print(\"Temperature in Fahrenheit:\", TemperatureConverter.celsius_to_fahrenheit(celsius))"
   ]
  },
  {
   "cell_type": "code",
   "execution_count": 69,
   "id": "5cb3e791-393b-432e-a621-6aa0eb1fa980",
   "metadata": {},
   "outputs": [
    {
     "name": "stdout",
     "output_type": "stream",
     "text": [
      "MyClass instance\n"
     ]
    }
   ],
   "source": [
    "#62. What is the purpose of the __str__() method in Python classes? Provide an example.\n",
    "\"\"\"\n",
    "`__str__()` defines the string representation of an object, used by `print()` and `str()`.\n",
    "\"\"\"\n",
    "class MyClass:\n",
    "    def __str__(self):\n",
    "        return \"MyClass instance\"\n",
    "\n",
    "obj = MyClass()\n",
    "print(obj)"
   ]
  },
  {
   "cell_type": "code",
   "execution_count": 70,
   "id": "d958242e-7c79-43b2-b171-9b8a69ae9ee1",
   "metadata": {},
   "outputs": [
    {
     "name": "stdout",
     "output_type": "stream",
     "text": [
      "10\n"
     ]
    }
   ],
   "source": [
    "#63. How does the __len__() method work in Python? Provide an example.\n",
    "\"\"\"\n",
    "`__len__()` returns the length of an object, used by `len()`.\n",
    "\"\"\"\n",
    "class MyClass:\n",
    "    def __len__(self):\n",
    "        return 10\n",
    "\n",
    "obj = MyClass()\n",
    "print(len(obj))"
   ]
  },
  {
   "cell_type": "code",
   "execution_count": 71,
   "id": "3d39f474-15f4-4d27-9091-57a69331b9c7",
   "metadata": {},
   "outputs": [
    {
     "name": "stdout",
     "output_type": "stream",
     "text": [
      "Addition\n"
     ]
    }
   ],
   "source": [
    "#64. Explain the usage of the __add__() method in Python classes. Provide an example.\n",
    "\"\"\"\n",
    "`__add__()` defines behavior for the `+` operator.\n",
    "\"\"\"\n",
    "class MyClass:\n",
    "    def __add__(self, other):\n",
    "        return \"Addition\"\n",
    "\n",
    "obj1 = MyClass()\n",
    "obj2 = MyClass()\n",
    "print(obj1 + obj2)"
   ]
  },
  {
   "cell_type": "code",
   "execution_count": 72,
   "id": "10f8e167-ca3a-4588-ab92-bec5dc824961",
   "metadata": {},
   "outputs": [
    {
     "name": "stdout",
     "output_type": "stream",
     "text": [
      "3\n"
     ]
    }
   ],
   "source": [
    "#65. What is the purpose of the __getitem__() method in Python? Provide an example.\n",
    "\"\"\"\n",
    "`__getitem__()` allows indexing of an object.\n",
    "\"\"\"\n",
    "class MyClass:\n",
    "    def __getitem__(self, index):\n",
    "        return index\n",
    "\n",
    "obj = MyClass()\n",
    "print(obj[3])"
   ]
  },
  {
   "cell_type": "code",
   "execution_count": 73,
   "id": "989fdf35-b1d8-4c3d-9b81-a2696b5be123",
   "metadata": {},
   "outputs": [
    {
     "name": "stdout",
     "output_type": "stream",
     "text": [
      "0\n",
      "1\n",
      "2\n",
      "3\n",
      "4\n"
     ]
    }
   ],
   "source": [
    "#66. Explain the usage of the __iter__() and __next__() methods in Python. Provide an example using iterators.\n",
    "class MyIter:\n",
    "    def __init__(self, max):\n",
    "        self.max = max\n",
    "        self.current = 0\n",
    "\n",
    "    def __iter__(self):\n",
    "        return self\n",
    "\n",
    "    def __next__(self):\n",
    "        if self.current < self.max:\n",
    "            self.current += 1\n",
    "            return self.current - 1\n",
    "        raise StopIteration\n",
    "\n",
    "iterator = MyIter(5)\n",
    "for value in iterator:\n",
    "    print(value)"
   ]
  },
  {
   "cell_type": "code",
   "execution_count": 74,
   "id": "6d481de3-1e86-4e36-b762-8708ac1feef9",
   "metadata": {},
   "outputs": [
    {
     "name": "stdout",
     "output_type": "stream",
     "text": [
      "10\n"
     ]
    }
   ],
   "source": [
    "#67. What is the purpose of a getter method in Python? Provide an example demonstrating the use of a getter method using property decorators.\n",
    "\"\"\"\n",
    "Getter methods return the value of private attributes using `@property`.\n",
    "\"\"\"\n",
    "class MyClass:\n",
    "    def __init__(self, value):\n",
    "        self.__value = value\n",
    "\n",
    "    @property\n",
    "    def value(self):\n",
    "        return self.__value\n",
    "\n",
    "obj = MyClass(10)\n",
    "print(obj.value)"
   ]
  },
  {
   "cell_type": "code",
   "execution_count": 75,
   "id": "843608a4-3de1-4aa8-90c8-7519fdde0df5",
   "metadata": {},
   "outputs": [
    {
     "name": "stdout",
     "output_type": "stream",
     "text": [
      "10\n",
      "20\n"
     ]
    }
   ],
   "source": [
    "#68. Explain the role of setter methods in Python. Demonstrate how to use a setter method to modify a class attribute using property decorators.\n",
    "\"\"\"\n",
    "Setter methods modify private attributes using `@<property_name>.setter`.\n",
    "\"\"\"\n",
    "class MyClass:\n",
    "    def __init__(self, value):\n",
    "        self.__value = value\n",
    "\n",
    "    @property\n",
    "    def value(self):\n",
    "        return self.__value\n",
    "\n",
    "    @value.setter\n",
    "    def value(self, new_value):\n",
    "        self.__value = new_value\n",
    "\n",
    "obj = MyClass(10)\n",
    "print(obj.value)\n",
    "obj.value = 20\n",
    "print(obj.value)"
   ]
  },
  {
   "cell_type": "code",
   "execution_count": 76,
   "id": "172d7acd-690a-40a5-803f-c895f4362cba",
   "metadata": {},
   "outputs": [
    {
     "name": "stdout",
     "output_type": "stream",
     "text": [
      "10\n"
     ]
    }
   ],
   "source": [
    "#69. What is the purpose of the @property decorator in Python? Provide an example illustrating its usage.\n",
    "\"\"\"\n",
    "`@property` creates a method that can be accessed like an attribute.\n",
    "\"\"\"\n",
    "class MyClass:\n",
    "    def __init__(self, value):\n",
    "        self.__value = value\n",
    "\n",
    "    @property\n",
    "    def value(self):\n",
    "        return self.__value\n",
    "\n",
    "obj = MyClass(10)\n",
    "print(obj.value)"
   ]
  },
  {
   "cell_type": "code",
   "execution_count": 77,
   "id": "53d0e237-c946-47b2-a7dc-620b93581f85",
   "metadata": {},
   "outputs": [
    {
     "name": "stdout",
     "output_type": "stream",
     "text": [
      "10\n"
     ]
    }
   ],
   "source": [
    "#70. Explain the use of the @deleter decorator in Python property decorators. Provide a code example demonstrating its application.\n",
    "\"\"\"\n",
    "`@deleter` allows defining behavior when a property is deleted.\n",
    "\"\"\"\n",
    "class MyClass:\n",
    "    def __init__(self, value):\n",
    "        self.__value = value\n",
    "\n",
    "    @property\n",
    "    def value(self):\n",
    "        return self.__value\n",
    "\n",
    "    @value.deleter\n",
    "    def value(self):\n",
    "        del self.__value\n",
    "\n",
    "obj = MyClass(10)\n",
    "print(obj.value)\n",
    "del obj.value"
   ]
  },
  {
   "cell_type": "code",
   "execution_count": 78,
   "id": "71c2509e-5620-4e39-84c8-2112ecafc991",
   "metadata": {},
   "outputs": [
    {
     "name": "stdout",
     "output_type": "stream",
     "text": [
      "10\n",
      "20\n"
     ]
    }
   ],
   "source": [
    "#71. How does encapsulation relate to property decorators in Python? Provide an example showcasing encapsulation using property decorators.\n",
    "\"\"\"\n",
    "Property decorators enable encapsulation by controlling access to private attributes with getters, setters, and deleters.\n",
    "\"\"\"\n",
    "class MyClass:\n",
    "    def __init__(self, value):\n",
    "        self.__value = value\n",
    "\n",
    "    @property\n",
    "    def value(self):\n",
    "        return self.__value\n",
    "\n",
    "    @value.setter\n",
    "    def value(self, new_value):\n",
    "        self.__value = new_value\n",
    "\n",
    "    @value.deleter\n",
    "    def value(self):\n",
    "        del self.__value\n",
    "\n",
    "obj = MyClass(10)\n",
    "print(obj.value)\n",
    "obj.value = 20\n",
    "print(obj.value)\n",
    "del obj.value"
   ]
  },
  {
   "cell_type": "code",
   "execution_count": null,
   "id": "9e608428-9876-418f-8613-e466aa2babb0",
   "metadata": {},
   "outputs": [],
   "source": []
  },
  {
   "cell_type": "code",
   "execution_count": null,
   "id": "7da7b1b3-8952-41b9-ad8a-415c82831a6b",
   "metadata": {},
   "outputs": [],
   "source": []
  },
  {
   "cell_type": "code",
   "execution_count": null,
   "id": "f48ed614-dd92-44e1-8cee-8cd4cbd19c3f",
   "metadata": {},
   "outputs": [],
   "source": []
  },
  {
   "cell_type": "code",
   "execution_count": null,
   "id": "c49a39f5-957a-4298-929c-17f83f4ff182",
   "metadata": {},
   "outputs": [],
   "source": []
  }
 ],
 "metadata": {
  "kernelspec": {
   "display_name": "Python 3 (ipykernel)",
   "language": "python",
   "name": "python3"
  },
  "language_info": {
   "codemirror_mode": {
    "name": "ipython",
    "version": 3
   },
   "file_extension": ".py",
   "mimetype": "text/x-python",
   "name": "python",
   "nbconvert_exporter": "python",
   "pygments_lexer": "ipython3",
   "version": "3.10.8"
  }
 },
 "nbformat": 4,
 "nbformat_minor": 5
}
